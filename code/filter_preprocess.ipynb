{
 "cells": [
  {
   "cell_type": "code",
   "execution_count": 3,
   "id": "b297ffab",
   "metadata": {},
   "outputs": [],
   "source": [
    "from pyspark.sql import SparkSession\n",
    "from pyspark.sql.functions import col\n",
    "from pyspark.sql.functions import array_contains\n"
   ]
  },
  {
   "cell_type": "code",
   "execution_count": 4,
   "id": "080c7e82",
   "metadata": {},
   "outputs": [
    {
     "name": "stderr",
     "output_type": "stream",
     "text": [
      "23/10/24 17:05:55 WARN Utils: Your hostname, Liangchengs-MacBook-Pro.local resolves to a loopback address: 127.0.0.1; using 10.0.121.243 instead (on interface en0)\n",
      "23/10/24 17:05:55 WARN Utils: Set SPARK_LOCAL_IP if you need to bind to another address\n",
      "Setting default log level to \"WARN\".\n",
      "To adjust logging level use sc.setLogLevel(newLevel). For SparkR, use setLogLevel(newLevel).\n",
      "23/10/24 17:05:55 WARN NativeCodeLoader: Unable to load native-hadoop library for your platform... using builtin-java classes where applicable\n"
     ]
    }
   ],
   "source": [
    "# Initialize SparkSession\n",
    "spark = SparkSession.builder.appName(\"DateParsing\").config(\"spark.sql.legacy.timeParserPolicy\", \"LEGACY\").getOrCreate()"
   ]
  },
  {
   "cell_type": "code",
   "execution_count": null,
   "id": "b285dd94",
   "metadata": {},
   "outputs": [],
   "source": [
    "# Load the JSON data into a DataFrame\n",
    "json_file_path = \"Cell_Phones_and_Accessories_5.json\"\n",
    "df = spark.read.json(json_file_path)\n",
    "\n",
    "\n",
    "from pyspark.sql.functions import year, to_date\n",
    "\n",
    "# Convert the \"reviewTime\" to a date and extract the year\n",
    "df = df.withColumn(\"reviewYear\", year(to_date(df[\"reviewTime\"], \"MM dd, yyyy\")))\n",
    "\n",
    "# Filter the dataset to retain reviews with a year >= 2017\n",
    "filtered_df = df.filter(df[\"reviewYear\"] >= 2017)\n",
    "\n",
    "# Drop the \"reviewYear\" column if you no longer need it\n",
    "filtered_df = filtered_df.drop(\"reviewYear\")"
   ]
  },
  {
   "cell_type": "code",
   "execution_count": null,
   "id": "49146aba",
   "metadata": {},
   "outputs": [],
   "source": [
    "# Load the meta data from the JSON file\n",
    "meta_data = spark.read.json(\"meta_Cell_Phones_and_Accessories.json\")\n",
    "\n",
    "# Perform a join based on the \"asin\" column, inner join to remove missing review or meta data\n",
    "merged_df = filtered_df.join(meta_data, \"asin\", \"inner\")\n",
    "selected_columns = [\n",
    "    'asin', 'reviewerID', 'vote', 'reviewText', 'overall', 'summary', 'reviewTime',\n",
    "    'title', 'price', 'rank', 'brand', 'category'\n",
    "]\n",
    "\n",
    "selected_df = merged_df.select(selected_columns)"
   ]
  },
  {
   "cell_type": "code",
   "execution_count": null,
   "id": "cc483fd6",
   "metadata": {},
   "outputs": [],
   "source": [
    "selected_df = selected_df.coalesce(1)\n",
    "selected_df.write.json(\"cellphone_accessories_review_meta_1718.json\")\n",
    "\n",
    "count = selected_df.count()\n",
    "print(\"Number of listings:\", count)"
   ]
  },
  {
   "cell_type": "code",
   "execution_count": null,
   "id": "2794bc04",
   "metadata": {},
   "outputs": [],
   "source": [
    "from pyspark.sql.functions import explode, col\n",
    "\n",
    "\n",
    "# Step 3: Explode the \"category\" list column\n",
    "df = selected_df.withColumn(\"category\", explode(col(\"category\")))\n",
    "\n",
    "# Step 4: Filter for relevant categories\n",
    "#filter_keywords = [\"Cell Phones\", \"Accessories\"]\n",
    "#filtered_df = df.filter(df.category.isin(filter_keywords))\n",
    "\n",
    "# Step 5: Print out distinct categories\n",
    "distinct_categories = df.select(\"category\").distinct()\n",
    "\n",
    "distinct_categories.show()"
   ]
  },
  {
   "cell_type": "code",
   "execution_count": null,
   "id": "245f8735",
   "metadata": {},
   "outputs": [],
   "source": [
    "# Save distinct categories to a text file\n",
    "distinct_categories_txt = \"distinct_categories.txt\"\n",
    "distinct_categories.write.text(distinct_categories_txt)"
   ]
  },
  {
   "cell_type": "code",
   "execution_count": null,
   "id": "541e4cee",
   "metadata": {},
   "outputs": [],
   "source": [
    "from pyspark.sql.functions import col, array_contains\n",
    "\n",
    "# Filter out cellphone data\n",
    "cellphone_df = selected_df.filter(array_contains(col(\"category\"), \"Cell Phones\"))\n",
    "\n",
    "# Filter out accessories data\n",
    "accessories_df = selected_df.filter(~array_contains(col(\"category\"), \"Cell Phones\"))"
   ]
  },
  {
   "cell_type": "code",
   "execution_count": null,
   "id": "7b7865fb",
   "metadata": {},
   "outputs": [],
   "source": [
    "# Save DataFrames as JSON files\n",
    "cellphone_df = cellphone_df.coalesce(1)\n",
    "accessories_df = accessories_df.coalesce(1)\n",
    "cellphone_df.write.json(\"cellphone.json\")\n",
    "accessories_df.write.json(\"accessories.json\")"
   ]
  },
  {
   "cell_type": "code",
   "execution_count": null,
   "id": "b7bf132c",
   "metadata": {},
   "outputs": [],
   "source": [
    "cellphone_df.count()"
   ]
  },
  {
   "cell_type": "code",
   "execution_count": null,
   "id": "426212a9",
   "metadata": {},
   "outputs": [],
   "source": [
    "accessories_df.count()"
   ]
  },
  {
   "cell_type": "markdown",
   "id": "9d066dff",
   "metadata": {},
   "source": [
    "## clean data"
   ]
  },
  {
   "cell_type": "code",
   "execution_count": 5,
   "id": "c888139e",
   "metadata": {},
   "outputs": [],
   "source": [
    "cellphone_df = spark.read.json(\"cellphone.json\")"
   ]
  },
  {
   "cell_type": "code",
   "execution_count": null,
   "id": "f518c621",
   "metadata": {},
   "outputs": [],
   "source": [
    "cellphone_df.head()"
   ]
  },
  {
   "cell_type": "code",
   "execution_count": null,
   "id": "ee8efd91",
   "metadata": {},
   "outputs": [],
   "source": [
    "cellphone_df.printSchema() "
   ]
  },
  {
   "cell_type": "code",
   "execution_count": 6,
   "id": "6d02c5d8",
   "metadata": {},
   "outputs": [],
   "source": [
    "# Remove duplicates from cellphone_df\n",
    "cellphone_df = cellphone_df.dropDuplicates()\n"
   ]
  },
  {
   "cell_type": "code",
   "execution_count": 8,
   "id": "852e67c6",
   "metadata": {},
   "outputs": [
    {
     "data": {
      "text/plain": [
       "7600"
      ]
     },
     "execution_count": 8,
     "metadata": {},
     "output_type": "execute_result"
    }
   ],
   "source": [
    "cellphone_df.count()"
   ]
  },
  {
   "cell_type": "code",
   "execution_count": 7,
   "id": "15a9f367",
   "metadata": {},
   "outputs": [
    {
     "name": "stdout",
     "output_type": "stream",
     "text": [
      "+-------+\n",
      "|  price|\n",
      "+-------+\n",
      "|       |\n",
      "|$219.99|\n",
      "+-------+\n",
      "only showing top 2 rows\n",
      "\n",
      "+------+\n",
      "| price|\n",
      "+------+\n",
      "|  null|\n",
      "|219.99|\n",
      "+------+\n",
      "only showing top 2 rows\n",
      "\n"
     ]
    }
   ],
   "source": [
    "# convert price from string to numeric\n",
    "cellphone_df.select('price').show(2)\n",
    "from pyspark.sql.functions import col, regexp_replace, expr\n",
    "\n",
    "# Remove the \"$\" symbol and convert the column to double\n",
    "cellphone_df = cellphone_df.withColumn(\"price\", \n",
    "                    expr(\"cast(regexp_replace(price, '[$,]', '') as double)\")\n",
    "                )\n",
    "cellphone_df.select('price').show(2)"
   ]
  },
  {
   "cell_type": "code",
   "execution_count": 9,
   "id": "40fe1294",
   "metadata": {},
   "outputs": [],
   "source": [
    "from pyspark.sql.functions import col\n",
    "\n",
    "from pyspark.sql.functions import isnan, isnull\n",
    "\n",
    "# Count null or NaN values in numeric columns\n",
    "numeric_null_counts = [\n",
    "    (col_name, cellphone_df.where(isnull(col_name) | isnan(col_name)).count())\n",
    "    for col_name in cellphone_df.columns\n",
    "    if col_name in [\"overall\",\"price\"]  # Replace with your numeric column names\n",
    "]\n",
    "\n",
    "# Count null or NaN values in categorical and string columns\n",
    "string_null_counts = [\n",
    "    (col_name, cellphone_df.where(isnull(col_name)).count())\n",
    "    for col_name in cellphone_df.columns\n",
    "    if col_name in ['asin', 'reviewerID', 'vote', 'reviewText', 'summary', 'reviewTime',\n",
    "    'title', 'rank', 'brand', 'category']  # Replace with your categorical and string column names\n",
    "]"
   ]
  },
  {
   "cell_type": "code",
   "execution_count": null,
   "id": "affded85",
   "metadata": {},
   "outputs": [],
   "source": [
    "# Print null counts\n",
    "for col_name, count in numeric_null_counts + string_null_counts:\n",
    "    print(f\"Null or NaN count in column '{col_name}': {count}\")"
   ]
  },
  {
   "cell_type": "code",
   "execution_count": null,
   "id": "a21af9b7",
   "metadata": {},
   "outputs": [],
   "source": [
    "# remove rows with missing reviewText and summary\n",
    "# too many missing values in price and vote, not wise to remove missing rows"
   ]
  },
  {
   "cell_type": "code",
   "execution_count": 32,
   "id": "fb382468",
   "metadata": {},
   "outputs": [],
   "source": [
    "# Filter out rows with null or NaN values in specific columns\n",
    "cellphone_df1 = cellphone_df.na.drop(subset=[\"reviewText\", \"summary\"])\n"
   ]
  },
  {
   "cell_type": "code",
   "execution_count": 35,
   "id": "0c7f9d1e",
   "metadata": {},
   "outputs": [
    {
     "name": "stderr",
     "output_type": "stream",
     "text": [
      "[nltk_data] Downloading package stopwords to\n",
      "[nltk_data]     /Users/liangchengzhang/nltk_data...\n",
      "[nltk_data]   Package stopwords is already up-to-date!\n"
     ]
    }
   ],
   "source": [
    "import string\n",
    "import re\n",
    "from pyspark.sql.functions import udf\n",
    "from pyspark.sql.types import StringType, ArrayType\n",
    "from pyspark.ml.feature import Tokenizer, StopWordsRemover\n",
    "import nltk\n",
    "from nltk.corpus import stopwords\n",
    "from nltk.stem import PorterStemmer\n",
    "nltk.download(\"stopwords\")\n",
    "\n",
    "# Initialize NLTK Porter Stemmer\n",
    "stemmer = PorterStemmer()\n",
    "\n",
    "# Define a function to perform stemming and special character/number removal\n",
    "def clean(text):\n",
    "    # Apply stemming and remove special characters and numbers\n",
    "    cleaned_words = [stemmer.stem(re.sub(r'[^a-zA-Z]', '', word)) for word in text if word != \" \"]\n",
    "    # Remove empty strings\n",
    "    cleaned_words = [word for word in cleaned_words if word]\n",
    "    \n",
    "    return cleaned_words\n",
    "\n",
    "# Create a user-defined function (UDF) to apply preprocessing\n",
    "clean_udf = udf(clean, ArrayType(StringType()))\n",
    "\n",
    "# Tokenize and remove stopwords\n",
    "tokenizer = Tokenizer(inputCol=\"reviewText\", outputCol=\"words\")\n",
    "stop_words = list(set(stopwords.words('english')))\n",
    "stopword_remover = StopWordsRemover(inputCol=\"words\", outputCol=\"filtered_words\", stopWords=stop_words)\n",
    "\n",
    "def preprocess(df):\n",
    "    df_token = tokenizer.transform(df)\n",
    "    df_stopword = stopword_remover.transform(df_token)\n",
    "    df_cleaned = df_stopword.withColumn(\"cleaned_review\", clean_udf(df_stopword[\"filtered_words\"]))\n",
    "    return df_cleaned\n",
    "\n",
    "\n",
    "\n",
    "cellphone_df_cleaned = preprocess(cellphone_df1)\n",
    "\n"
   ]
  },
  {
   "cell_type": "code",
   "execution_count": 16,
   "id": "caf6a8f2",
   "metadata": {},
   "outputs": [
    {
     "name": "stdout",
     "output_type": "stream",
     "text": [
      "+--------------------+\n",
      "|      filtered_words|\n",
      "+--------------------+\n",
      "|[great, business/...|\n",
      "|[everything, fine...|\n",
      "|[back, cover, slo...|\n",
      "+--------------------+\n",
      "only showing top 3 rows\n",
      "\n"
     ]
    }
   ],
   "source": [
    "cellphone_df_cleaned.select('filtered_words').show(3)"
   ]
  },
  {
   "cell_type": "markdown",
   "id": "aa409f38",
   "metadata": {},
   "source": [
    "## same processing for accessories"
   ]
  },
  {
   "cell_type": "code",
   "execution_count": 37,
   "id": "5ca21ea5",
   "metadata": {},
   "outputs": [],
   "source": [
    "accessories_df = spark.read.json(\"accessories.json\")"
   ]
  },
  {
   "cell_type": "code",
   "execution_count": 38,
   "id": "a0dd96be",
   "metadata": {},
   "outputs": [
    {
     "name": "stdout",
     "output_type": "stream",
     "text": [
      "+-----+\n",
      "|price|\n",
      "+-----+\n",
      "| null|\n",
      "| null|\n",
      "+-----+\n",
      "only showing top 2 rows\n",
      "\n",
      "Null or NaN count in column 'overall': 0\n",
      "Null or NaN count in column 'price': 42523\n",
      "Null or NaN count in column 'asin': 0\n",
      "Null or NaN count in column 'brand': 0\n",
      "Null or NaN count in column 'category': 0\n",
      "Null or NaN count in column 'rank': 0\n",
      "Null or NaN count in column 'reviewText': 187\n",
      "Null or NaN count in column 'reviewTime': 0\n",
      "Null or NaN count in column 'reviewerID': 0\n",
      "Null or NaN count in column 'summary': 110\n",
      "Null or NaN count in column 'title': 0\n",
      "Null or NaN count in column 'vote': 160275\n"
     ]
    }
   ],
   "source": [
    "# Remove duplicates \n",
    "accessories_df = accessories_df.dropDuplicates()\n",
    "# convert price from string to numeric\n",
    "\n",
    "# Remove the \"$\" symbol and convert the column to double\n",
    "accessories_df = accessories_df.withColumn(\"price\", \n",
    "                    expr(\"cast(regexp_replace(price, '[$,]', '') as double)\")\n",
    "                )\n",
    "accessories_df.select('price').show(2)\n",
    "\n",
    "\n",
    "# Count null or NaN values in numeric columns\n",
    "numeric_null_counts = [\n",
    "    (col_name, accessories_df.where(isnull(col_name) | isnan(col_name)).count())\n",
    "    for col_name in accessories_df.columns\n",
    "    if col_name in [\"overall\",\"price\"]  # Replace with your numeric column names\n",
    "]\n",
    "\n",
    "# Count null or NaN values in categorical and string columns\n",
    "string_null_counts = [\n",
    "    (col_name, accessories_df.where(isnull(col_name)).count())\n",
    "    for col_name in accessories_df.columns\n",
    "    if col_name in ['asin', 'reviewerID', 'vote', 'reviewText', 'summary', 'reviewTime',\n",
    "    'title', 'rank', 'brand', 'category']  # Replace with your categorical and string column names\n",
    "]\n",
    "\n",
    "for col_name, count in numeric_null_counts + string_null_counts:\n",
    "    print(f\"Null or NaN count in column '{col_name}': {count}\")\n",
    "    \n",
    "    # Filter out rows with null or NaN values in specific columns\n",
    "accessories_df1 = accessories_df.na.drop(subset=[\"reviewText\", \"summary\"])\n",
    "accessories_df_cleaned = preprocess(accessories_df1)"
   ]
  },
  {
   "cell_type": "code",
   "execution_count": 39,
   "id": "f3800e7c",
   "metadata": {},
   "outputs": [
    {
     "name": "stderr",
     "output_type": "stream",
     "text": [
      "\r",
      "[Stage 361:>                                                        (0 + 1) / 1]\r"
     ]
    },
    {
     "name": "stdout",
     "output_type": "stream",
     "text": [
      "+----------+---------+--------------------+-------+-----+--------------------+--------------------+-----------+--------------+--------------------+--------------------+----+--------------------+--------------------+--------------------+\n",
      "|      asin|    brand|            category|overall|price|                rank|          reviewText| reviewTime|    reviewerID|             summary|               title|vote|               words|      filtered_words|      cleaned_review|\n",
      "+----------+---------+--------------------+-------+-----+--------------------+--------------------+-----------+--------------+--------------------+--------------------+----+--------------------+--------------------+--------------------+\n",
      "|9707716371|PowerBear|[Cell Phones & Ac...|    2.0| null|[\">#14,390 in Cel...|I bought this in ...|04 12, 2018|A1DX757BJI4V4K|Battery doesn't l...|PowerBear Samsung...|null|[i, bought, this,...|[bought, may, 201...|[bought, may, fir...|\n",
      "+----------+---------+--------------------+-------+-----+--------------------+--------------------+-----------+--------------+--------------------+--------------------+----+--------------------+--------------------+--------------------+\n",
      "only showing top 1 row\n",
      "\n"
     ]
    },
    {
     "name": "stderr",
     "output_type": "stream",
     "text": [
      "\r",
      "                                                                                \r"
     ]
    }
   ],
   "source": [
    "accessories_df_cleaned.show(1)"
   ]
  },
  {
   "cell_type": "code",
   "execution_count": 36,
   "id": "05e20f44",
   "metadata": {},
   "outputs": [
    {
     "name": "stderr",
     "output_type": "stream",
     "text": [
      "                                                                                \r"
     ]
    }
   ],
   "source": [
    "cellphone_df_cleaned = cellphone_df_cleaned.coalesce(1)\n",
    "cellphone_df_cleaned.write.json(\"cellphone_clean.json\")"
   ]
  },
  {
   "cell_type": "code",
   "execution_count": 40,
   "id": "c6ec69cd",
   "metadata": {},
   "outputs": [
    {
     "name": "stderr",
     "output_type": "stream",
     "text": [
      "                                                                                \r"
     ]
    }
   ],
   "source": [
    "accessories_df_cleaned = accessories_df_cleaned.coalesce(1)\n",
    "accessories_df_cleaned.write.json(\"accessories_clean.json\")"
   ]
  },
  {
   "cell_type": "code",
   "execution_count": null,
   "id": "3f043749",
   "metadata": {},
   "outputs": [],
   "source": [
    "# biased review"
   ]
  },
  {
   "cell_type": "code",
   "execution_count": 44,
   "id": "dbd88c3d",
   "metadata": {},
   "outputs": [],
   "source": [
    "from textblob import TextBlob\n",
    "\n",
    "# Define a function to calculate sentiment polarity\n",
    "def get_sentiment(text):\n",
    "    analysis = TextBlob(text)\n",
    "    if analysis.sentiment.polarity > 0.2:  # Adjust the threshold as needed\n",
    "        return \"positive\"\n",
    "    elif analysis.sentiment.polarity < -0.2:  # Adjust the threshold as needed\n",
    "        return \"negative\"\n",
    "    else:\n",
    "        return \"neutral\"\n",
    "\n",
    "# Create a user-defined function (UDF) to apply sentiment analysis\n",
    "sentiment_udf = udf(get_sentiment, StringType())\n",
    "\n",
    "# Add a new column to the DataFrame with sentiment labels\n",
    "cellphone_df_cleaned = cellphone_df_cleaned.withColumn(\"sentiment\", sentiment_udf(cellphone_df_cleaned[\"reviewText\"]))\n",
    "\n"
   ]
  },
  {
   "cell_type": "code",
   "execution_count": 46,
   "id": "39117382",
   "metadata": {},
   "outputs": [
    {
     "name": "stderr",
     "output_type": "stream",
     "text": [
      "[Stage 369:============================>                            (1 + 1) / 2]\r"
     ]
    },
    {
     "name": "stdout",
     "output_type": "stream",
     "text": [
      "+-------------------------------------------------------------------------------------------------------------------------------------------------------------------------------------------------------------------------------------------------------------------------------------------------------------------------------------------------------------------------------------------------------------------------------------------------------------------------------------------------------------------------------------------------------------------------------------------------------------------------------------------------------------------------------------------------------------------------------------------------------------------------------------------------------------------------------------------------------------------------------------------------------------------------------------------------------------------------------------------------------------------------------------------------------------------------------------------------------------------------------------------+\n",
      "|reviewText                                                                                                                                                                                                                                                                                                                                                                                                                                                                                                                                                                                                                                                                                                                                                                                                                                                                                                                                                                                                                                                                                                                                 |\n",
      "+-------------------------------------------------------------------------------------------------------------------------------------------------------------------------------------------------------------------------------------------------------------------------------------------------------------------------------------------------------------------------------------------------------------------------------------------------------------------------------------------------------------------------------------------------------------------------------------------------------------------------------------------------------------------------------------------------------------------------------------------------------------------------------------------------------------------------------------------------------------------------------------------------------------------------------------------------------------------------------------------------------------------------------------------------------------------------------------------------------------------------------------------+\n",
      "|Great business/productivity/communicator phone with unbeatable battery life\\n\\nKey observations:\\n\\n- Business-/productivity-focused Android N phone combined with unmatched BlackBerry security and productivity apps\\n\\n- Outstanding battery life through combination of large battery and improved Android 7 N power management. Average use lasts 2-3 days.\\n\\n- Despite midrange specs, overall very snappy performance with no noticeable lags. Good and bright screen. Very fast fingerprint sensor, doubling as home key and track key. Programmable convencience key.\\n\\n- Very solid build, water- and dust-resistant IP67. Not slippery to hold. In my view, a case is not neccessary.\\n\\n- Excellent reception and call quality. HD Voice. Speakers clear and loud, although not stereo. T-Mobile WiFi-Calling works fine.\\n\\n- Camera OK but not great, especially in low light. Focus and shots are snappy. Lacks optical stabilization.\\n\\nOverall, I solid, secure and reliable business and productivity communicator. Highly recommended.                                                                               |\n",
      "|Everything is fine with this product.                                                                                                                                                                                                                                                                                                                                                                                                                                                                                                                                                                                                                                                                                                                                                                                                                                                                                                                                                                                                                                                                                                      |\n",
      "|Not bad of a phone. It over heated a lot, so thats why I went with a Samsung                                                                                                                                                                                                                                                                                                                                                                                                                                                                                                                                                                                                                                                                                                                                                                                                                                                                                                                                                                                                                                                               |\n",
      "|Awesome product! Loved it and just as described! 5 stars! Thank you so much!!                                                                                                                                                                                                                                                                                                                                                                                                                                                                                                                                                                                                                                                                                                                                                                                                                                                                                                                                                                                                                                                              |\n",
      "|Great Product                                                                                                                                                                                                                                                                                                                                                                                                                                                                                                                                                                                                                                                                                                                                                                                                                                                                                                                                                                                                                                                                                                                              |\n",
      "|Item was received as described, good packaging and a quality product.                                                                                                                                                                                                                                                                                                                                                                                                                                                                                                                                                                                                                                                                                                                                                                                                                                                                                                                                                                                                                                                                      |\n",
      "|nice phone.                                                                                                                                                                                                                                                                                                                                                                                                                                                                                                                                                                                                                                                                                                                                                                                                                                                                                                                                                                                                                                                                                                                                |\n",
      "|Bought as a phone for my mother. She is very happy with so I am too                                                                                                                                                                                                                                                                                                                                                                                                                                                                                                                                                                                                                                                                                                                                                                                                                                                                                                                                                                                                                                                                        |\n",
      "|As for the seller. Extraordinary, I arrive on time. The dispatcher took him into custody. Within the mailbox. I recognize them 100%. In terms of product. what I needed. ideal. Recommendations to new buyers. Always read the specifications.                                                                                                                                                                                                                                                                                                                                                                                                                                                                                                                                                                                                                                                                                                                                                                                                                                                                                             |\n",
      "|Excellent phone for the price point. The camera is high quality and switching from app to app is seamless. The battery life is decent. I suggest that users put their phone on battery saving mode so it lasts the entire day.                                                                                                                                                                                                                                                                                                                                                                                                                                                                                                                                                                                                                                                                                                                                                                                                                                                                                                             |\n",
      "|Went to Verizon to get SIM card and service! So far it is working GREAT!                                                                                                                                                                                                                                                                                                                                                                                                                                                                                                                                                                                                                                                                                                                                                                                                                                                                                                                                                                                                                                                                   |\n",
      "|Daughter wanted a small but powerful phone. Does great. She loves it.                                                                                                                                                                                                                                                                                                                                                                                                                                                                                                                                                                                                                                                                                                                                                                                                                                                                                                                                                                                                                                                                      |\n",
      "|This phone is well designed. The quick charge ability is fast from 20% to full charge in 30/40 minutes. The key of any carrier unlocked gsm phone is the supported radio bands. This phone works on ANY gsm mvno in the US . UPDATE... I rooted the Robin and installed AICP Android 7.1.2, much improvement. The screen is brighter, all bugs in the software are history and the battery life improved by 10 percent.                                                                                                                                                                                                                                                                                                                                                                                                                                                                                                                                                                                                                                                                                                                    |\n",
      "|Good seller, excellent                                                                                                                                                                                                                                                                                                                                                                                                                                                                                                                                                                                                                                                                                                                                                                                                                                                                                                                                                                                                                                                                                                                     |\n",
      "|Bought like new from Amazon Warehouse and it's basically new. Described accurately, coming with a damaged original packaging but contents were still excellent, save for the creased paperwork.\\nPhone is big. I have a Galaxy S7 and oh man. Came factory unlocked, not from a carrier, like some reviews stated. Phone gets warm just from charging, which takes a while even with quick charge. It's got a bigger battery than my S7 but my Galaxy charges way faster. S7 is still the better phone. I used to have keyboard phones so I couldn't resist the reduced price of the Priv.\\nKeyboard not as high quality getting compared to vintage BlackBerry devices. It's cramped but I have small hands so not bad in my case. No spacious individual keys like the Droid 4 or Xperia Mini Pro. However, you have gestures, like scrolling and deleting words. You can also double tap the keyboard to switch to a text cursor scrolling model.\\nBe sure update to the latest Marshmallow softwares. The PRIV may get Nougat in the future but nothing confirmed. If so, that'll be the last version of Android the phone may receive.|\n",
      "|Good.                                                                                                                                                                                                                                                                                                                                                                                                                                                                                                                                                                                                                                                                                                                                                                                                                                                                                                                                                                                                                                                                                                                                      |\n",
      "|Excellent, thanks                                                                                                                                                                                                                                                                                                                                                                                                                                                                                                                                                                                                                                                                                                                                                                                                                                                                                                                                                                                                                                                                                                                          |\n",
      "|It will need an SD card to take pictures or to play mp3s from. It looks really girly. It is super cheap and does a lot for a flip phone. Stopped working pretty soon tho.                                                                                                                                                                                                                                                                                                                                                                                                                                                                                                                                                                                                                                                                                                                                                                                                                                                                                                                                                                  |\n",
      "|Great Product                                                                                                                                                                                                                                                                                                                                                                                                                                                                                                                                                                                                                                                                                                                                                                                                                                                                                                                                                                                                                                                                                                                              |\n",
      "|good                                                                                                                                                                                                                                                                                                                                                                                                                                                                                                                                                                                                                                                                                                                                                                                                                                                                                                                                                                                                                                                                                                                                       |\n",
      "+-------------------------------------------------------------------------------------------------------------------------------------------------------------------------------------------------------------------------------------------------------------------------------------------------------------------------------------------------------------------------------------------------------------------------------------------------------------------------------------------------------------------------------------------------------------------------------------------------------------------------------------------------------------------------------------------------------------------------------------------------------------------------------------------------------------------------------------------------------------------------------------------------------------------------------------------------------------------------------------------------------------------------------------------------------------------------------------------------------------------------------------------+\n",
      "only showing top 20 rows\n",
      "\n"
     ]
    },
    {
     "name": "stderr",
     "output_type": "stream",
     "text": [
      "\r",
      "                                                                                \r"
     ]
    }
   ],
   "source": [
    "# Filter and show reviews with extreme sentiments\n",
    "extreme_sentiments = cellphone_df_cleaned.filter(\n",
    "    (cellphone_df_cleaned[\"sentiment\"] == \"positive\") | (cellphone_df_cleaned[\"sentiment\"] == \"negative\")\n",
    ")\n",
    "\n",
    "extreme_sentiments.select('reviewText').show(truncate=False)\n"
   ]
  },
  {
   "cell_type": "code",
   "execution_count": 47,
   "id": "f61cf1ba",
   "metadata": {},
   "outputs": [
    {
     "ename": "ConnectionRefusedError",
     "evalue": "[Errno 61] Connection refused",
     "output_type": "error",
     "traceback": [
      "\u001b[0;31m---------------------------------------------------------------------------\u001b[0m",
      "\u001b[0;31mBrokenPipeError\u001b[0m                           Traceback (most recent call last)",
      "File \u001b[0;32m~/opt/anaconda3/lib/python3.9/site-packages/py4j/clientserver.py:503\u001b[0m, in \u001b[0;36mClientServerConnection.send_command\u001b[0;34m(self, command)\u001b[0m\n\u001b[1;32m    502\u001b[0m \u001b[38;5;28;01mtry\u001b[39;00m:\n\u001b[0;32m--> 503\u001b[0m     \u001b[38;5;28;43mself\u001b[39;49m\u001b[38;5;241;43m.\u001b[39;49m\u001b[43msocket\u001b[49m\u001b[38;5;241;43m.\u001b[39;49m\u001b[43msendall\u001b[49m\u001b[43m(\u001b[49m\u001b[43mcommand\u001b[49m\u001b[38;5;241;43m.\u001b[39;49m\u001b[43mencode\u001b[49m\u001b[43m(\u001b[49m\u001b[38;5;124;43m\"\u001b[39;49m\u001b[38;5;124;43mutf-8\u001b[39;49m\u001b[38;5;124;43m\"\u001b[39;49m\u001b[43m)\u001b[49m\u001b[43m)\u001b[49m\n\u001b[1;32m    504\u001b[0m \u001b[38;5;28;01mexcept\u001b[39;00m \u001b[38;5;167;01mException\u001b[39;00m \u001b[38;5;28;01mas\u001b[39;00m e:\n",
      "\u001b[0;31mBrokenPipeError\u001b[0m: [Errno 32] Broken pipe",
      "\nDuring handling of the above exception, another exception occurred:\n",
      "\u001b[0;31mPy4JNetworkError\u001b[0m                          Traceback (most recent call last)",
      "File \u001b[0;32m~/opt/anaconda3/lib/python3.9/site-packages/py4j/java_gateway.py:1038\u001b[0m, in \u001b[0;36mGatewayClient.send_command\u001b[0;34m(self, command, retry, binary)\u001b[0m\n\u001b[1;32m   1037\u001b[0m \u001b[38;5;28;01mtry\u001b[39;00m:\n\u001b[0;32m-> 1038\u001b[0m     response \u001b[38;5;241m=\u001b[39m \u001b[43mconnection\u001b[49m\u001b[38;5;241;43m.\u001b[39;49m\u001b[43msend_command\u001b[49m\u001b[43m(\u001b[49m\u001b[43mcommand\u001b[49m\u001b[43m)\u001b[49m\n\u001b[1;32m   1039\u001b[0m     \u001b[38;5;28;01mif\u001b[39;00m binary:\n",
      "File \u001b[0;32m~/opt/anaconda3/lib/python3.9/site-packages/py4j/clientserver.py:506\u001b[0m, in \u001b[0;36mClientServerConnection.send_command\u001b[0;34m(self, command)\u001b[0m\n\u001b[1;32m    505\u001b[0m     logger\u001b[38;5;241m.\u001b[39minfo(\u001b[38;5;124m\"\u001b[39m\u001b[38;5;124mError while sending or receiving.\u001b[39m\u001b[38;5;124m\"\u001b[39m, exc_info\u001b[38;5;241m=\u001b[39m\u001b[38;5;28;01mTrue\u001b[39;00m)\n\u001b[0;32m--> 506\u001b[0m     \u001b[38;5;28;01mraise\u001b[39;00m Py4JNetworkError(\n\u001b[1;32m    507\u001b[0m         \u001b[38;5;124m\"\u001b[39m\u001b[38;5;124mError while sending\u001b[39m\u001b[38;5;124m\"\u001b[39m, e, proto\u001b[38;5;241m.\u001b[39mERROR_ON_SEND)\n\u001b[1;32m    509\u001b[0m \u001b[38;5;28;01mtry\u001b[39;00m:\n",
      "\u001b[0;31mPy4JNetworkError\u001b[0m: Error while sending",
      "\nDuring handling of the above exception, another exception occurred:\n",
      "\u001b[0;31mConnectionRefusedError\u001b[0m                    Traceback (most recent call last)",
      "Input \u001b[0;32mIn [47]\u001b[0m, in \u001b[0;36m<cell line: 1>\u001b[0;34m()\u001b[0m\n\u001b[0;32m----> 1\u001b[0m \u001b[43mspark\u001b[49m\u001b[38;5;241;43m.\u001b[39;49m\u001b[43mstop\u001b[49m\u001b[43m(\u001b[49m\u001b[43m)\u001b[49m\n",
      "File \u001b[0;32m~/opt/anaconda3/lib/python3.9/site-packages/pyspark/sql/session.py:1599\u001b[0m, in \u001b[0;36mSparkSession.stop\u001b[0;34m(self)\u001b[0m\n\u001b[1;32m   1585\u001b[0m \u001b[38;5;250m\u001b[39m\u001b[38;5;124;03m\"\"\"\u001b[39;00m\n\u001b[1;32m   1586\u001b[0m \u001b[38;5;124;03mStop the underlying :class:`SparkContext`.\u001b[39;00m\n\u001b[1;32m   1587\u001b[0m \n\u001b[0;32m   (...)\u001b[0m\n\u001b[1;32m   1595\u001b[0m \u001b[38;5;124;03m>>> spark.stop()  # doctest: +SKIP\u001b[39;00m\n\u001b[1;32m   1596\u001b[0m \u001b[38;5;124;03m\"\"\"\u001b[39;00m\n\u001b[1;32m   1597\u001b[0m \u001b[38;5;28;01mfrom\u001b[39;00m \u001b[38;5;21;01mpyspark\u001b[39;00m\u001b[38;5;21;01m.\u001b[39;00m\u001b[38;5;21;01msql\u001b[39;00m\u001b[38;5;21;01m.\u001b[39;00m\u001b[38;5;21;01mcontext\u001b[39;00m \u001b[38;5;28;01mimport\u001b[39;00m SQLContext\n\u001b[0;32m-> 1599\u001b[0m \u001b[38;5;28;43mself\u001b[39;49m\u001b[38;5;241;43m.\u001b[39;49m\u001b[43m_sc\u001b[49m\u001b[38;5;241;43m.\u001b[39;49m\u001b[43mstop\u001b[49m\u001b[43m(\u001b[49m\u001b[43m)\u001b[49m\n\u001b[1;32m   1600\u001b[0m \u001b[38;5;66;03m# We should clean the default session up. See SPARK-23228.\u001b[39;00m\n\u001b[1;32m   1601\u001b[0m \u001b[38;5;28;01massert\u001b[39;00m \u001b[38;5;28mself\u001b[39m\u001b[38;5;241m.\u001b[39m_jvm \u001b[38;5;129;01mis\u001b[39;00m \u001b[38;5;129;01mnot\u001b[39;00m \u001b[38;5;28;01mNone\u001b[39;00m\n",
      "File \u001b[0;32m~/opt/anaconda3/lib/python3.9/site-packages/pyspark/context.py:651\u001b[0m, in \u001b[0;36mSparkContext.stop\u001b[0;34m(self)\u001b[0m\n\u001b[1;32m    649\u001b[0m \u001b[38;5;28;01mif\u001b[39;00m \u001b[38;5;28mgetattr\u001b[39m(\u001b[38;5;28mself\u001b[39m, \u001b[38;5;124m\"\u001b[39m\u001b[38;5;124m_jsc\u001b[39m\u001b[38;5;124m\"\u001b[39m, \u001b[38;5;28;01mNone\u001b[39;00m):\n\u001b[1;32m    650\u001b[0m     \u001b[38;5;28;01mtry\u001b[39;00m:\n\u001b[0;32m--> 651\u001b[0m         \u001b[38;5;28;43mself\u001b[39;49m\u001b[38;5;241;43m.\u001b[39;49m\u001b[43m_jsc\u001b[49m\u001b[38;5;241;43m.\u001b[39;49m\u001b[43mstop\u001b[49m\u001b[43m(\u001b[49m\u001b[43m)\u001b[49m\n\u001b[1;32m    652\u001b[0m     \u001b[38;5;28;01mexcept\u001b[39;00m Py4JError:\n\u001b[1;32m    653\u001b[0m         \u001b[38;5;66;03m# Case: SPARK-18523\u001b[39;00m\n\u001b[1;32m    654\u001b[0m         warnings\u001b[38;5;241m.\u001b[39mwarn(\n\u001b[1;32m    655\u001b[0m             \u001b[38;5;124m\"\u001b[39m\u001b[38;5;124mUnable to cleanly shutdown Spark JVM process.\u001b[39m\u001b[38;5;124m\"\u001b[39m\n\u001b[1;32m    656\u001b[0m             \u001b[38;5;124m\"\u001b[39m\u001b[38;5;124m It is possible that the process has crashed,\u001b[39m\u001b[38;5;124m\"\u001b[39m\n\u001b[1;32m    657\u001b[0m             \u001b[38;5;124m\"\u001b[39m\u001b[38;5;124m been killed or may also be in a zombie state.\u001b[39m\u001b[38;5;124m\"\u001b[39m,\n\u001b[1;32m    658\u001b[0m             \u001b[38;5;167;01mRuntimeWarning\u001b[39;00m,\n\u001b[1;32m    659\u001b[0m         )\n",
      "File \u001b[0;32m~/opt/anaconda3/lib/python3.9/site-packages/py4j/java_gateway.py:1321\u001b[0m, in \u001b[0;36mJavaMember.__call__\u001b[0;34m(self, *args)\u001b[0m\n\u001b[1;32m   1314\u001b[0m args_command, temp_args \u001b[38;5;241m=\u001b[39m \u001b[38;5;28mself\u001b[39m\u001b[38;5;241m.\u001b[39m_build_args(\u001b[38;5;241m*\u001b[39margs)\n\u001b[1;32m   1316\u001b[0m command \u001b[38;5;241m=\u001b[39m proto\u001b[38;5;241m.\u001b[39mCALL_COMMAND_NAME \u001b[38;5;241m+\u001b[39m\\\n\u001b[1;32m   1317\u001b[0m     \u001b[38;5;28mself\u001b[39m\u001b[38;5;241m.\u001b[39mcommand_header \u001b[38;5;241m+\u001b[39m\\\n\u001b[1;32m   1318\u001b[0m     args_command \u001b[38;5;241m+\u001b[39m\\\n\u001b[1;32m   1319\u001b[0m     proto\u001b[38;5;241m.\u001b[39mEND_COMMAND_PART\n\u001b[0;32m-> 1321\u001b[0m answer \u001b[38;5;241m=\u001b[39m \u001b[38;5;28;43mself\u001b[39;49m\u001b[38;5;241;43m.\u001b[39;49m\u001b[43mgateway_client\u001b[49m\u001b[38;5;241;43m.\u001b[39;49m\u001b[43msend_command\u001b[49m\u001b[43m(\u001b[49m\u001b[43mcommand\u001b[49m\u001b[43m)\u001b[49m\n\u001b[1;32m   1322\u001b[0m return_value \u001b[38;5;241m=\u001b[39m get_return_value(\n\u001b[1;32m   1323\u001b[0m     answer, \u001b[38;5;28mself\u001b[39m\u001b[38;5;241m.\u001b[39mgateway_client, \u001b[38;5;28mself\u001b[39m\u001b[38;5;241m.\u001b[39mtarget_id, \u001b[38;5;28mself\u001b[39m\u001b[38;5;241m.\u001b[39mname)\n\u001b[1;32m   1325\u001b[0m \u001b[38;5;28;01mfor\u001b[39;00m temp_arg \u001b[38;5;129;01min\u001b[39;00m temp_args:\n",
      "File \u001b[0;32m~/opt/anaconda3/lib/python3.9/site-packages/py4j/java_gateway.py:1053\u001b[0m, in \u001b[0;36mGatewayClient.send_command\u001b[0;34m(self, command, retry, binary)\u001b[0m\n\u001b[1;32m   1051\u001b[0m \u001b[38;5;28;01mif\u001b[39;00m \u001b[38;5;28mself\u001b[39m\u001b[38;5;241m.\u001b[39m_should_retry(retry, connection, pne):\n\u001b[1;32m   1052\u001b[0m     logging\u001b[38;5;241m.\u001b[39minfo(\u001b[38;5;124m\"\u001b[39m\u001b[38;5;124mException while sending command.\u001b[39m\u001b[38;5;124m\"\u001b[39m, exc_info\u001b[38;5;241m=\u001b[39m\u001b[38;5;28;01mTrue\u001b[39;00m)\n\u001b[0;32m-> 1053\u001b[0m     response \u001b[38;5;241m=\u001b[39m \u001b[38;5;28;43mself\u001b[39;49m\u001b[38;5;241;43m.\u001b[39;49m\u001b[43msend_command\u001b[49m\u001b[43m(\u001b[49m\u001b[43mcommand\u001b[49m\u001b[43m,\u001b[49m\u001b[43m \u001b[49m\u001b[43mbinary\u001b[49m\u001b[38;5;241;43m=\u001b[39;49m\u001b[43mbinary\u001b[49m\u001b[43m)\u001b[49m\n\u001b[1;32m   1054\u001b[0m \u001b[38;5;28;01melse\u001b[39;00m:\n\u001b[1;32m   1055\u001b[0m     logging\u001b[38;5;241m.\u001b[39mexception(\n\u001b[1;32m   1056\u001b[0m         \u001b[38;5;124m\"\u001b[39m\u001b[38;5;124mException while sending command.\u001b[39m\u001b[38;5;124m\"\u001b[39m)\n",
      "File \u001b[0;32m~/opt/anaconda3/lib/python3.9/site-packages/py4j/java_gateway.py:1036\u001b[0m, in \u001b[0;36mGatewayClient.send_command\u001b[0;34m(self, command, retry, binary)\u001b[0m\n\u001b[1;32m   1015\u001b[0m \u001b[38;5;28;01mdef\u001b[39;00m \u001b[38;5;21msend_command\u001b[39m(\u001b[38;5;28mself\u001b[39m, command, retry\u001b[38;5;241m=\u001b[39m\u001b[38;5;28;01mTrue\u001b[39;00m, binary\u001b[38;5;241m=\u001b[39m\u001b[38;5;28;01mFalse\u001b[39;00m):\n\u001b[1;32m   1016\u001b[0m \u001b[38;5;250m    \u001b[39m\u001b[38;5;124;03m\"\"\"Sends a command to the JVM. This method is not intended to be\u001b[39;00m\n\u001b[1;32m   1017\u001b[0m \u001b[38;5;124;03m       called directly by Py4J users. It is usually called by\u001b[39;00m\n\u001b[1;32m   1018\u001b[0m \u001b[38;5;124;03m       :class:`JavaMember` instances.\u001b[39;00m\n\u001b[0;32m   (...)\u001b[0m\n\u001b[1;32m   1034\u001b[0m \u001b[38;5;124;03m     if `binary` is `True`.\u001b[39;00m\n\u001b[1;32m   1035\u001b[0m \u001b[38;5;124;03m    \"\"\"\u001b[39;00m\n\u001b[0;32m-> 1036\u001b[0m     connection \u001b[38;5;241m=\u001b[39m \u001b[38;5;28;43mself\u001b[39;49m\u001b[38;5;241;43m.\u001b[39;49m\u001b[43m_get_connection\u001b[49m\u001b[43m(\u001b[49m\u001b[43m)\u001b[49m\n\u001b[1;32m   1037\u001b[0m     \u001b[38;5;28;01mtry\u001b[39;00m:\n\u001b[1;32m   1038\u001b[0m         response \u001b[38;5;241m=\u001b[39m connection\u001b[38;5;241m.\u001b[39msend_command(command)\n",
      "File \u001b[0;32m~/opt/anaconda3/lib/python3.9/site-packages/py4j/clientserver.py:284\u001b[0m, in \u001b[0;36mJavaClient._get_connection\u001b[0;34m(self)\u001b[0m\n\u001b[1;32m    281\u001b[0m     \u001b[38;5;28;01mpass\u001b[39;00m\n\u001b[1;32m    283\u001b[0m \u001b[38;5;28;01mif\u001b[39;00m connection \u001b[38;5;129;01mis\u001b[39;00m \u001b[38;5;28;01mNone\u001b[39;00m \u001b[38;5;129;01mor\u001b[39;00m connection\u001b[38;5;241m.\u001b[39msocket \u001b[38;5;129;01mis\u001b[39;00m \u001b[38;5;28;01mNone\u001b[39;00m:\n\u001b[0;32m--> 284\u001b[0m     connection \u001b[38;5;241m=\u001b[39m \u001b[38;5;28;43mself\u001b[39;49m\u001b[38;5;241;43m.\u001b[39;49m\u001b[43m_create_new_connection\u001b[49m\u001b[43m(\u001b[49m\u001b[43m)\u001b[49m\n\u001b[1;32m    285\u001b[0m \u001b[38;5;28;01mreturn\u001b[39;00m connection\n",
      "File \u001b[0;32m~/opt/anaconda3/lib/python3.9/site-packages/py4j/clientserver.py:291\u001b[0m, in \u001b[0;36mJavaClient._create_new_connection\u001b[0;34m(self)\u001b[0m\n\u001b[1;32m    287\u001b[0m \u001b[38;5;28;01mdef\u001b[39;00m \u001b[38;5;21m_create_new_connection\u001b[39m(\u001b[38;5;28mself\u001b[39m):\n\u001b[1;32m    288\u001b[0m     connection \u001b[38;5;241m=\u001b[39m ClientServerConnection(\n\u001b[1;32m    289\u001b[0m         \u001b[38;5;28mself\u001b[39m\u001b[38;5;241m.\u001b[39mjava_parameters, \u001b[38;5;28mself\u001b[39m\u001b[38;5;241m.\u001b[39mpython_parameters,\n\u001b[1;32m    290\u001b[0m         \u001b[38;5;28mself\u001b[39m\u001b[38;5;241m.\u001b[39mgateway_property, \u001b[38;5;28mself\u001b[39m)\n\u001b[0;32m--> 291\u001b[0m     \u001b[43mconnection\u001b[49m\u001b[38;5;241;43m.\u001b[39;49m\u001b[43mconnect_to_java_server\u001b[49m\u001b[43m(\u001b[49m\u001b[43m)\u001b[49m\n\u001b[1;32m    292\u001b[0m     \u001b[38;5;28mself\u001b[39m\u001b[38;5;241m.\u001b[39mset_thread_connection(connection)\n\u001b[1;32m    293\u001b[0m     \u001b[38;5;28;01mreturn\u001b[39;00m connection\n",
      "File \u001b[0;32m~/opt/anaconda3/lib/python3.9/site-packages/py4j/clientserver.py:438\u001b[0m, in \u001b[0;36mClientServerConnection.connect_to_java_server\u001b[0;34m(self)\u001b[0m\n\u001b[1;32m    435\u001b[0m \u001b[38;5;28;01mif\u001b[39;00m \u001b[38;5;28mself\u001b[39m\u001b[38;5;241m.\u001b[39mssl_context:\n\u001b[1;32m    436\u001b[0m     \u001b[38;5;28mself\u001b[39m\u001b[38;5;241m.\u001b[39msocket \u001b[38;5;241m=\u001b[39m \u001b[38;5;28mself\u001b[39m\u001b[38;5;241m.\u001b[39mssl_context\u001b[38;5;241m.\u001b[39mwrap_socket(\n\u001b[1;32m    437\u001b[0m         \u001b[38;5;28mself\u001b[39m\u001b[38;5;241m.\u001b[39msocket, server_hostname\u001b[38;5;241m=\u001b[39m\u001b[38;5;28mself\u001b[39m\u001b[38;5;241m.\u001b[39mjava_address)\n\u001b[0;32m--> 438\u001b[0m \u001b[38;5;28;43mself\u001b[39;49m\u001b[38;5;241;43m.\u001b[39;49m\u001b[43msocket\u001b[49m\u001b[38;5;241;43m.\u001b[39;49m\u001b[43mconnect\u001b[49m\u001b[43m(\u001b[49m\u001b[43m(\u001b[49m\u001b[38;5;28;43mself\u001b[39;49m\u001b[38;5;241;43m.\u001b[39;49m\u001b[43mjava_address\u001b[49m\u001b[43m,\u001b[49m\u001b[43m \u001b[49m\u001b[38;5;28;43mself\u001b[39;49m\u001b[38;5;241;43m.\u001b[39;49m\u001b[43mjava_port\u001b[49m\u001b[43m)\u001b[49m\u001b[43m)\u001b[49m\n\u001b[1;32m    439\u001b[0m \u001b[38;5;28mself\u001b[39m\u001b[38;5;241m.\u001b[39mstream \u001b[38;5;241m=\u001b[39m \u001b[38;5;28mself\u001b[39m\u001b[38;5;241m.\u001b[39msocket\u001b[38;5;241m.\u001b[39mmakefile(\u001b[38;5;124m\"\u001b[39m\u001b[38;5;124mrb\u001b[39m\u001b[38;5;124m\"\u001b[39m)\n\u001b[1;32m    440\u001b[0m \u001b[38;5;28mself\u001b[39m\u001b[38;5;241m.\u001b[39mis_connected \u001b[38;5;241m=\u001b[39m \u001b[38;5;28;01mTrue\u001b[39;00m\n",
      "\u001b[0;31mConnectionRefusedError\u001b[0m: [Errno 61] Connection refused"
     ]
    }
   ],
   "source": [
    "spark.stop()"
   ]
  },
  {
   "cell_type": "code",
   "execution_count": null,
   "id": "945d9bfd",
   "metadata": {},
   "outputs": [],
   "source": []
  }
 ],
 "metadata": {
  "kernelspec": {
   "display_name": "Python 3 (ipykernel)",
   "language": "python",
   "name": "python3"
  },
  "language_info": {
   "codemirror_mode": {
    "name": "ipython",
    "version": 3
   },
   "file_extension": ".py",
   "mimetype": "text/x-python",
   "name": "python",
   "nbconvert_exporter": "python",
   "pygments_lexer": "ipython3",
   "version": "3.9.12"
  }
 },
 "nbformat": 4,
 "nbformat_minor": 5
}
